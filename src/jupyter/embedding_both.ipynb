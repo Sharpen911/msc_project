{
 "cells": [
  {
   "cell_type": "code",
   "execution_count": 1,
   "metadata": {},
   "outputs": [],
   "source": [
    "import pickle\n",
    "import numpy as np\n",
    "import pandas as pd\n",
    "\n",
    "from sklearn.model_selection import train_test_split\n",
    "from sklearn.model_selection import cross_val_score\n",
    "\n",
    "from sklearn.linear_model import RidgeClassifier\n",
    "from sklearn.ensemble import RandomForestClassifier\n",
    "from sklearn.ensemble import GradientBoostingClassifier\n",
    "from sklearn.svm import LinearSVC, SVC\n",
    "\n",
    "from sklearn.metrics import classification_report\n",
    "from sklearn.metrics import accuracy_score\n",
    "from sklearn.metrics import confusion_matrix, log_loss, f1_score"
   ]
  },
  {
   "cell_type": "code",
   "execution_count": 2,
   "metadata": {},
   "outputs": [],
   "source": [
    "with open('features/both_.pkl', 'rb') as f:\n",
    "    both_feature = pickle.load(f)\n",
    "both_feature.dropna(inplace = True)\n",
    "both_feature.reset_index(inplace = True)\n",
    "both_feature.drop(both_feature.columns[0], axis=1,inplace = True)\n",
    "both_feature.drop(labels = both_feature[both_feature.ethnicity.eq('other')].index,inplace =True)\n",
    "\n",
    "both_feature[\"ethnicity\"].replace({\"asian\":\"asian/hispanic\",\"hispanic\":\"asian/hispanic\"}, inplace=True)"
   ]
  },
  {
   "cell_type": "code",
   "execution_count": 3,
   "metadata": {},
   "outputs": [],
   "source": [
    "X_train_gender, X_test_gender, y_train_gender, y_test_gender = train_test_split(both_feature.drop(columns = ['gender','ethnicity']), both_feature['gender'], test_size=0.2, random_state=43)"
   ]
  },
  {
   "cell_type": "code",
   "execution_count": 4,
   "metadata": {},
   "outputs": [
    {
     "name": "stdout",
     "output_type": "stream",
     "text": [
      "              precision    recall  f1-score   support\n",
      "\n",
      "      female      0.819     0.801     0.810      1930\n",
      "        male      0.793     0.811     0.802      1808\n",
      "\n",
      "    accuracy                          0.806      3738\n",
      "   macro avg      0.806     0.806     0.806      3738\n",
      "weighted avg      0.806     0.806     0.806      3738\n",
      "\n"
     ]
    }
   ],
   "source": [
    "svm_linear = LinearSVC(tol=1e-3,dual = False,max_iter=10000,penalty='l1').fit(X_train_gender, y_train_gender) \n",
    "report_SVMlinear = classification_report(svm_linear.predict(X_test_gender),y_test_gender,digits = 3)\n",
    "print(report_SVMlinear)"
   ]
  },
  {
   "cell_type": "code",
   "execution_count": 5,
   "metadata": {},
   "outputs": [
    {
     "name": "stdout",
     "output_type": "stream",
     "text": [
      "              precision    recall  f1-score   support\n",
      "\n",
      "      female      0.786     0.786     0.786      1887\n",
      "        male      0.782     0.782     0.782      1851\n",
      "\n",
      "    accuracy                          0.784      3738\n",
      "   macro avg      0.784     0.784     0.784      3738\n",
      "weighted avg      0.784     0.784     0.784      3738\n",
      "\n"
     ]
    }
   ],
   "source": [
    "rf = RandomForestClassifier(criterion='entropy', max_depth=70, n_estimators=500).fit(X_train_gender, y_train_gender)\n",
    "report_rf = classification_report(rf.predict(X_test_gender),y_test_gender,digits = 3)\n",
    "print(report_rf)"
   ]
  },
  {
   "cell_type": "code",
   "execution_count": 6,
   "metadata": {},
   "outputs": [
    {
     "name": "stdout",
     "output_type": "stream",
     "text": [
      "              precision    recall  f1-score   support\n",
      "\n",
      "      female      0.809     0.807     0.808      1893\n",
      "        male      0.802     0.805     0.804      1845\n",
      "\n",
      "    accuracy                          0.806      3738\n",
      "   macro avg      0.806     0.806     0.806      3738\n",
      "weighted avg      0.806     0.806     0.806      3738\n",
      "\n"
     ]
    }
   ],
   "source": [
    "GBC = GradientBoostingClassifier(n_estimators=300,max_depth = 7).fit(X_train_gender, y_train_gender)\n",
    "report_GBC = classification_report(GBC.predict(X_test_gender),y_test_gender,digits = 3)\n",
    "print(report_GBC)"
   ]
  },
  {
   "cell_type": "code",
   "execution_count": 7,
   "metadata": {},
   "outputs": [],
   "source": [
    "X_train_eth, X_test_eth, y_train_eth, y_test_eth = train_test_split(both_feature.drop(columns = ['gender','ethnicity']), both_feature['ethnicity'], test_size=0.2, random_state=43)"
   ]
  },
  {
   "cell_type": "code",
   "execution_count": 8,
   "metadata": {},
   "outputs": [
    {
     "name": "stdout",
     "output_type": "stream",
     "text": [
      "                precision    recall  f1-score   support\n",
      "\n",
      "asian/hispanic      0.610     0.534     0.569       343\n",
      "         black      0.856     0.878     0.867      1505\n",
      "         white      0.863     0.865     0.864      1890\n",
      "\n",
      "      accuracy                          0.840      3738\n",
      "     macro avg      0.776     0.759     0.767      3738\n",
      "  weighted avg      0.837     0.840     0.838      3738\n",
      "\n"
     ]
    }
   ],
   "source": [
    "svm_linear = LinearSVC(class_weight='balanced', dual=False, max_iter=15000, penalty='l1',tol=1e-2).fit(X_train_eth, y_train_eth)\n",
    "report_SVMlinear = classification_report(svm_linear.predict(X_test_eth),y_test_eth,digits = 3,zero_division = 0)\n",
    "print(report_SVMlinear)"
   ]
  },
  {
   "cell_type": "code",
   "execution_count": 9,
   "metadata": {},
   "outputs": [
    {
     "name": "stdout",
     "output_type": "stream",
     "text": [
      "                precision    recall  f1-score   support\n",
      "\n",
      "asian/hispanic      0.450     0.844     0.587       160\n",
      "         black      0.796     0.874     0.833      1405\n",
      "         white      0.914     0.797     0.852      2173\n",
      "\n",
      "      accuracy                          0.828      3738\n",
      "     macro avg      0.720     0.838     0.757      3738\n",
      "  weighted avg      0.850     0.828     0.833      3738\n",
      "\n"
     ]
    }
   ],
   "source": [
    "rf = RandomForestClassifier(class_weight='balanced', criterion='entropy',max_depth=90, n_estimators=500).fit(X_train_eth, y_train_eth)\n",
    "report_rf = classification_report(rf.predict(X_test_eth),y_test_eth,digits = 3,zero_division = 0)\n",
    "print(report_rf)"
   ]
  },
  {
   "cell_type": "code",
   "execution_count": 12,
   "metadata": {},
   "outputs": [
    {
     "name": "stdout",
     "output_type": "stream",
     "text": [
      "                precision    recall  f1-score   support\n",
      "\n",
      "asian/hispanic      0.480     0.766     0.590       188\n",
      "         black      0.843     0.894     0.868      1455\n",
      "         white      0.918     0.831     0.872      2095\n",
      "\n",
      "      accuracy                          0.852      3738\n",
      "     macro avg      0.747     0.830     0.777      3738\n",
      "  weighted avg      0.867     0.852     0.856      3738\n",
      "\n"
     ]
    }
   ],
   "source": [
    "# increse the max_depth will get better performance\n",
    "GBC = GradientBoostingClassifier(n_estimators=300,max_depth = 7).fit(X_train_eth, y_train_eth)\n",
    "report_GBC = classification_report(GBC.predict(X_test_eth),y_test_eth,digits = 3)\n",
    "print(report_GBC)"
   ]
  }
 ],
 "metadata": {
  "kernelspec": {
   "display_name": "Python 3",
   "language": "python",
   "name": "python3"
  },
  "language_info": {
   "codemirror_mode": {
    "name": "ipython",
    "version": 3
   },
   "file_extension": ".py",
   "mimetype": "text/x-python",
   "name": "python",
   "nbconvert_exporter": "python",
   "pygments_lexer": "ipython3",
   "version": "3.7.7"
  }
 },
 "nbformat": 4,
 "nbformat_minor": 4
}
